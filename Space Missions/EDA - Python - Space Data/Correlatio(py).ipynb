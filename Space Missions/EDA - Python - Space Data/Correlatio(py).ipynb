{
 "cells": [
  {
   "cell_type": "code",
   "execution_count": 7,
   "metadata": {},
   "outputs": [],
   "source": [
    "import pandas as pd\n",
    "import numpy as np\n",
    "import math"
   ]
  },
  {
   "cell_type": "code",
   "execution_count": 24,
   "metadata": {},
   "outputs": [],
   "source": [
    "def correlation(data,col1,col2):\n",
    "\n",
    "    x=col1\n",
    "    y=col2\n",
    "    \n",
    "    #creating new empty arrays\n",
    "    xy=[]\n",
    "    xx=[]\n",
    "    yy=[]\n",
    "    \n",
    "    for i in range(len(data)):\n",
    "        xy.append(x[i]*y[i])\n",
    "        xx.append(x[i]**2)\n",
    "        yy.append(y[i]**2)\n",
    "        \n",
    "    #Sxx,Syy,Sxy\n",
    "    Sxy=sum(xy)-(sum(x)*sum(y))/len(data)\n",
    "    Sxx=sum(xx)-(sum(x)**2)/len(data)\n",
    "    Syy=sum(yy)-(sum(y)**2)/len(data)\n",
    "    \n",
    "    z=math.sqrt(Sxx*Syy)\n",
    "    \n",
    "    cor=round(Sxy/z,3)\n",
    "    if(Sxy>=0):\n",
    "        corcoef=math.sqrt(Sxy/z)\n",
    "    else:\n",
    "        corcoef=math.sqrt((-1*Sxy)/z)\n",
    "    \n",
    "    return cor,corcoef\n",
    "    "
   ]
  },
  {
   "cell_type": "code",
   "execution_count": 22,
   "metadata": {},
   "outputs": [
    {
     "data": {
      "text/html": [
       "<div>\n",
       "<style scoped>\n",
       "    .dataframe tbody tr th:only-of-type {\n",
       "        vertical-align: middle;\n",
       "    }\n",
       "\n",
       "    .dataframe tbody tr th {\n",
       "        vertical-align: top;\n",
       "    }\n",
       "\n",
       "    .dataframe thead th {\n",
       "        text-align: right;\n",
       "    }\n",
       "</style>\n",
       "<table border=\"1\" class=\"dataframe\">\n",
       "  <thead>\n",
       "    <tr style=\"text-align: right;\">\n",
       "      <th></th>\n",
       "      <th>Years</th>\n",
       "      <th>Missions</th>\n",
       "      <th>Cost</th>\n",
       "      <th>Success</th>\n",
       "    </tr>\n",
       "  </thead>\n",
       "  <tbody>\n",
       "    <tr>\n",
       "      <th>0</th>\n",
       "      <td>1957</td>\n",
       "      <td>3</td>\n",
       "      <td>3</td>\n",
       "      <td>2</td>\n",
       "    </tr>\n",
       "    <tr>\n",
       "      <th>1</th>\n",
       "      <td>1958</td>\n",
       "      <td>28</td>\n",
       "      <td>28</td>\n",
       "      <td>6</td>\n",
       "    </tr>\n",
       "    <tr>\n",
       "      <th>2</th>\n",
       "      <td>1959</td>\n",
       "      <td>20</td>\n",
       "      <td>20</td>\n",
       "      <td>8</td>\n",
       "    </tr>\n",
       "    <tr>\n",
       "      <th>3</th>\n",
       "      <td>1960</td>\n",
       "      <td>39</td>\n",
       "      <td>39</td>\n",
       "      <td>19</td>\n",
       "    </tr>\n",
       "    <tr>\n",
       "      <th>4</th>\n",
       "      <td>1961</td>\n",
       "      <td>52</td>\n",
       "      <td>52</td>\n",
       "      <td>32</td>\n",
       "    </tr>\n",
       "    <tr>\n",
       "      <th>...</th>\n",
       "      <td>...</td>\n",
       "      <td>...</td>\n",
       "      <td>...</td>\n",
       "      <td>...</td>\n",
       "    </tr>\n",
       "    <tr>\n",
       "      <th>59</th>\n",
       "      <td>2016</td>\n",
       "      <td>90</td>\n",
       "      <td>2116</td>\n",
       "      <td>86</td>\n",
       "    </tr>\n",
       "    <tr>\n",
       "      <th>60</th>\n",
       "      <td>2017</td>\n",
       "      <td>92</td>\n",
       "      <td>2469</td>\n",
       "      <td>84</td>\n",
       "    </tr>\n",
       "    <tr>\n",
       "      <th>61</th>\n",
       "      <td>2018</td>\n",
       "      <td>117</td>\n",
       "      <td>3327</td>\n",
       "      <td>113</td>\n",
       "    </tr>\n",
       "    <tr>\n",
       "      <th>62</th>\n",
       "      <td>2019</td>\n",
       "      <td>109</td>\n",
       "      <td>2883</td>\n",
       "      <td>100</td>\n",
       "    </tr>\n",
       "    <tr>\n",
       "      <th>63</th>\n",
       "      <td>2020</td>\n",
       "      <td>63</td>\n",
       "      <td>1839</td>\n",
       "      <td>57</td>\n",
       "    </tr>\n",
       "  </tbody>\n",
       "</table>\n",
       "<p>64 rows × 4 columns</p>\n",
       "</div>"
      ],
      "text/plain": [
       "    Years  Missions  Cost  Success\n",
       "0    1957         3     3        2\n",
       "1    1958        28    28        6\n",
       "2    1959        20    20        8\n",
       "3    1960        39    39       19\n",
       "4    1961        52    52       32\n",
       "..    ...       ...   ...      ...\n",
       "59   2016        90  2116       86\n",
       "60   2017        92  2469       84\n",
       "61   2018       117  3327      113\n",
       "62   2019       109  2883      100\n",
       "63   2020        63  1839       57\n",
       "\n",
       "[64 rows x 4 columns]"
      ]
     },
     "execution_count": 22,
     "metadata": {},
     "output_type": "execute_result"
    }
   ],
   "source": [
    "data=pd.read_csv(\"C:/Users/shrey/Downloads/IBM/Year Count.csv\")\n",
    "data    "
   ]
  },
  {
   "cell_type": "code",
   "execution_count": 27,
   "metadata": {},
   "outputs": [
    {
     "name": "stdout",
     "output_type": "stream",
     "text": [
      "-0.155 0.39342565732792895\n"
     ]
    }
   ],
   "source": [
    "x,y=correlation(data,data['Years'],data['Missions'])\n",
    "print(x,y)"
   ]
  },
  {
   "cell_type": "code",
   "execution_count": 28,
   "metadata": {},
   "outputs": [
    {
     "name": "stdout",
     "output_type": "stream",
     "text": [
      "0.742 0.861516479691512\n"
     ]
    }
   ],
   "source": [
    "x,y=correlation(data,data['Years'],data['Cost'])\n",
    "print(x,y)"
   ]
  },
  {
   "cell_type": "code",
   "execution_count": 29,
   "metadata": {},
   "outputs": [
    {
     "name": "stdout",
     "output_type": "stream",
     "text": [
      "-0.025 0.15677924524590753\n"
     ]
    }
   ],
   "source": [
    "x,y=correlation(data,data['Years'],data['Success'])\n",
    "print(x,y)"
   ]
  },
  {
   "cell_type": "code",
   "execution_count": 32,
   "metadata": {},
   "outputs": [
    {
     "name": "stdout",
     "output_type": "stream",
     "text": [
      "0.179 0.42269066898202745\n"
     ]
    }
   ],
   "source": [
    "x,y=correlation(data,data['Cost'],data['Missions'])\n",
    "print(x,y)"
   ]
  },
  {
   "cell_type": "code",
   "execution_count": 33,
   "metadata": {},
   "outputs": [
    {
     "name": "stdout",
     "output_type": "stream",
     "text": [
      "0.233 0.4825940478537819\n"
     ]
    }
   ],
   "source": [
    "x,y=correlation(data,data['Cost'],data['Success'])\n",
    "print(x,y)"
   ]
  },
  {
   "cell_type": "code",
   "execution_count": 34,
   "metadata": {},
   "outputs": [
    {
     "name": "stdout",
     "output_type": "stream",
     "text": [
      "0.979 0.989441375782602\n"
     ]
    }
   ],
   "source": [
    "x,y=correlation(data,data['Missions'],data['Success'])\n",
    "print(x,y)"
   ]
  },
  {
   "cell_type": "code",
   "execution_count": null,
   "metadata": {},
   "outputs": [],
   "source": []
  }
 ],
 "metadata": {
  "kernelspec": {
   "display_name": "Python 3",
   "language": "python",
   "name": "python3"
  },
  "language_info": {
   "codemirror_mode": {
    "name": "ipython",
    "version": 3
   },
   "file_extension": ".py",
   "mimetype": "text/x-python",
   "name": "python",
   "nbconvert_exporter": "python",
   "pygments_lexer": "ipython3",
   "version": "3.8.5"
  }
 },
 "nbformat": 4,
 "nbformat_minor": 4
}
